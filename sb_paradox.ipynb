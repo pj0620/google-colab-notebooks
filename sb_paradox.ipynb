{
  "nbformat": 4,
  "nbformat_minor": 0,
  "metadata": {
    "colab": {
      "provenance": [],
      "authorship_tag": "ABX9TyPmzqk7rvJdXxSoroA/nnOi",
      "include_colab_link": true
    },
    "kernelspec": {
      "name": "python3",
      "display_name": "Python 3"
    },
    "language_info": {
      "name": "python"
    }
  },
  "cells": [
    {
      "cell_type": "markdown",
      "metadata": {
        "id": "view-in-github",
        "colab_type": "text"
      },
      "source": [
        "<a href=\"https://colab.research.google.com/github/pj0620/google-colab-notebooks/blob/main/sb_paradox.ipynb\" target=\"_parent\"><img src=\"https://colab.research.google.com/assets/colab-badge.svg\" alt=\"Open In Colab\"/></a>"
      ]
    },
    {
      "cell_type": "code",
      "execution_count": 25,
      "metadata": {
        "colab": {
          "base_uri": "https://localhost:8080/"
        },
        "id": "i7n_yfNC2fum",
        "outputId": "486501e0-27b4-4d4b-c9ea-57bd213865d7"
      },
      "outputs": [
        {
          "output_type": "stream",
          "name": "stdout",
          "text": [
            "probabilty of heads = 0.33288903698767075\n"
          ]
        }
      ],
      "source": [
        "import random\n",
        "\n",
        "head_count = 0\n",
        "tail_count = 0\n",
        "\n",
        "for _ in range(10000):\n",
        "  # SB put to sleep\n",
        "\n",
        "  # coin is flipped\n",
        "  coin_toss = random.choice([True, False])\n",
        "\n",
        "  # if coin is heads, wake up SB\n",
        "  if coin_toss:\n",
        "    head_count += 1\n",
        "\n",
        "  # if coin is tails, wake up SB twice\n",
        "  else:\n",
        "    tail_count += 2\n",
        "\n",
        "print(f\"probabilty of heads = {head_count / (head_count + tail_count)}\")"
      ]
    },
    {
      "cell_type": "code",
      "source": [
        "import matplotlib.pyplot as plt\n",
        "\n",
        "# u(3 * x + 1) = u(2 * (3x + 1)) = u(6x+2) = u(3 * (2x + 1/3) + 1)\n",
        "# x -> 2x + 1/3\n",
        "# x -> (x - 1/3)/2 = x/2 - 1/6\n",
        "\n",
        "plt.figure(figsize=(10, 6))\n",
        "\n",
        "max_depth = 5\n",
        "\n",
        "u = lambda x: x if x%2==1 else u(x//2)\n",
        "c = lambda x: u(3 * x + 1)\n",
        "R = lambda f, n, x: f(x) if n == 0 else f(R(f, n - 1, x))\n",
        "\n",
        "X = list(range(100))\n",
        "Ys = [\n",
        "  [ R(c, depth, x) for x in X]\n",
        "  for depth in range(max_depth)\n",
        "]\n",
        "\n",
        "def smoothstep(x):\n",
        "  return 3 * x**2 - 2 * x**3\n",
        "\n",
        "def aggressive_step(x, n=3):\n",
        "  return 1 - (1 - x)**n\n",
        "\n",
        "mins = [\n",
        "    min(Ys[depth][X])\n",
        "]\n",
        "for depth in range(max_depth):\n",
        "  alph = (depth + 1) / max_depth\n",
        "  opac = aggressive_step(alph)\n",
        "  plt.scatter(X, Ys[depth], color='blue', alpha=opac, s=0.01)\n",
        "\n",
        "l_vals = [f\"Y{i}\" for i in range(max_depth)]\n",
        "\n",
        "# plt.legend(l_vals)\n",
        "plt.show()"
      ],
      "metadata": {
        "colab": {
          "base_uri": "https://localhost:8080/",
          "height": 522
        },
        "id": "c6J3MKVO5u_m",
        "outputId": "58994765-a322-4262-f036-09a8bd7ca5a1"
      },
      "execution_count": 64,
      "outputs": [
        {
          "output_type": "display_data",
          "data": {
            "text/plain": [
              "<Figure size 1000x600 with 1 Axes>"
            ],
            "image/png": "[encoded data removed]"
          },
          "metadata": {}
        }
      ]
    },
    {
      "cell_type": "code",
      "source": [
        "R(c, 1, 4)"
      ],
      "metadata": {
        "colab": {
          "base_uri": "https://localhost:8080/"
        },
        "id": "2YQf1Nzt8fov",
        "outputId": "26982e88-1c1e-4dfc-b87e-d00028b99a3e"
      },
      "execution_count": 42,
      "outputs": [
        {
          "output_type": "execute_result",
          "data": {
            "text/plain": [
              "5"
            ]
          },
          "metadata": {},
          "execution_count": 42
        }
      ]
    }
  ]
}