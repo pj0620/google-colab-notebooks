{
  "nbformat": 4,
  "nbformat_minor": 0,
  "metadata": {
    "colab": {
      "provenance": [],
      "authorship_tag": "ABX9TyPR9rFwYd3Nsxp9J76xZBN/",
      "include_colab_link": true
    },
    "kernelspec": {
      "name": "python3",
      "display_name": "Python 3"
    },
    "language_info": {
      "name": "python"
    }
  },
  "cells": [
    {
      "cell_type": "markdown",
      "metadata": {
        "id": "view-in-github",
        "colab_type": "text"
      },
      "source": [
        "<a href=\"https://colab.research.google.com/github/pj0620/google-colab-notebooks/blob/main/acca_analytics.ipynb\" target=\"_parent\"><img src=\"https://colab.research.google.com/assets/colab-badge.svg\" alt=\"Open In Colab\"/></a>"
      ]
    },
    {
      "cell_type": "markdown",
      "source": [
        "# Common"
      ],
      "metadata": {
        "id": "WHiJIw-AYTd3"
      }
    },
    {
      "cell_type": "code",
      "execution_count": 16,
      "metadata": {
        "colab": {
          "base_uri": "https://localhost:8080/"
        },
        "id": "ORbya8WnXBSj",
        "outputId": "b0fe41ba-d7f7-4bcc-98a0-7ac67846abd0"
      },
      "outputs": [
        {
          "output_type": "stream",
          "name": "stdout",
          "text": [
            "Requirement already satisfied: boto3 in /usr/local/lib/python3.10/dist-packages (1.34.153)\n",
            "Requirement already satisfied: awscli in /usr/local/lib/python3.10/dist-packages (1.33.35)\n",
            "Requirement already satisfied: botocore<1.35.0,>=1.34.153 in /usr/local/lib/python3.10/dist-packages (from boto3) (1.34.153)\n",
            "Requirement already satisfied: jmespath<2.0.0,>=0.7.1 in /usr/local/lib/python3.10/dist-packages (from boto3) (1.0.1)\n",
            "Requirement already satisfied: s3transfer<0.11.0,>=0.10.0 in /usr/local/lib/python3.10/dist-packages (from boto3) (0.10.2)\n",
            "Requirement already satisfied: docutils<0.17,>=0.10 in /usr/local/lib/python3.10/dist-packages (from awscli) (0.16)\n",
            "Requirement already satisfied: PyYAML<6.1,>=3.10 in /usr/local/lib/python3.10/dist-packages (from awscli) (6.0.1)\n",
            "Requirement already satisfied: colorama<0.4.7,>=0.2.5 in /usr/local/lib/python3.10/dist-packages (from awscli) (0.4.6)\n",
            "Requirement already satisfied: rsa<4.8,>=3.1.2 in /usr/local/lib/python3.10/dist-packages (from awscli) (4.7.2)\n",
            "Requirement already satisfied: python-dateutil<3.0.0,>=2.1 in /usr/local/lib/python3.10/dist-packages (from botocore<1.35.0,>=1.34.153->boto3) (2.8.2)\n",
            "Requirement already satisfied: urllib3!=2.2.0,<3,>=1.25.4 in /usr/local/lib/python3.10/dist-packages (from botocore<1.35.0,>=1.34.153->boto3) (2.0.7)\n",
            "Requirement already satisfied: pyasn1>=0.1.3 in /usr/local/lib/python3.10/dist-packages (from rsa<4.8,>=3.1.2->awscli) (0.6.0)\n",
            "Requirement already satisfied: six>=1.5 in /usr/local/lib/python3.10/dist-packages (from python-dateutil<3.0.0,>=2.1->botocore<1.35.0,>=1.34.153->boto3) (1.16.0)\n",
            "Requirement already satisfied: pandas in /usr/local/lib/python3.10/dist-packages (2.1.4)\n",
            "Requirement already satisfied: numpy<2,>=1.22.4 in /usr/local/lib/python3.10/dist-packages (from pandas) (1.26.4)\n",
            "Requirement already satisfied: python-dateutil>=2.8.2 in /usr/local/lib/python3.10/dist-packages (from pandas) (2.8.2)\n",
            "Requirement already satisfied: pytz>=2020.1 in /usr/local/lib/python3.10/dist-packages (from pandas) (2024.1)\n",
            "Requirement already satisfied: tzdata>=2022.1 in /usr/local/lib/python3.10/dist-packages (from pandas) (2024.1)\n",
            "Requirement already satisfied: six>=1.5 in /usr/local/lib/python3.10/dist-packages (from python-dateutil>=2.8.2->pandas) (1.16.0)\n"
          ]
        }
      ],
      "source": [
        "!pip install boto3 awscli\n",
        "!pip install pandas\n",
        "\n",
        "import os\n",
        "import boto3\n",
        "import pandas as pd"
      ]
    },
    {
      "cell_type": "code",
      "source": [
        "from google.colab import userdata\n",
        "\n",
        "os.environ['AWS_ACCESS_KEY_ID'] = userdata.get('AWS_ACCESS_KEY_ID')\n",
        "os.environ['AWS_SECRET_ACCESS_KEY'] = userdata.get('AWS_SECRET_ACCESS_KEY')\n",
        "os.environ['AWS_DEFAULT_REGION'] = userdata.get('AWS_DEFAULT_REGION')"
      ],
      "metadata": {
        "id": "GM866jUXYqrn"
      },
      "execution_count": 13,
      "outputs": []
    },
    {
      "cell_type": "code",
      "source": [
        "# Initialize a session using Amazon DynamoDB\n",
        "dynamodb = boto3.resource('dynamodb')\n",
        "\n",
        "# Select your DynamoDB table\n",
        "table = dynamodb.Table('events-table-prod')\n",
        "\n",
        "# Perform a scan operation with a limit of 10 items\n",
        "response = table.scan(Limit=10)\n",
        "items = response['Items']\n",
        "df = pd.DataFrame(items)\n",
        "# Ensure the timestamp is numeric\n",
        "df['timestamp'] = pd.to_numeric(df['timestamp'])\n",
        "\n",
        "# Convert timestamp from milliseconds to seconds and then to datetime\n",
        "df['date'] = pd.to_datetime(df['timestamp'] // 1000, unit='s')\n",
        "print(df)"
      ],
      "metadata": {
        "colab": {
          "base_uri": "https://localhost:8080/"
        },
        "id": "jawR9Em3Ybm8",
        "outputId": "d45e8000-7fb1-4a78-aaac-81acebc7a9eb"
      },
      "execution_count": 20,
      "outputs": [
        {
          "output_type": "stream",
          "name": "stdout",
          "text": [
            "  appVersion platform            userId              eventCode langaugeCode  \\\n",
            "0      8.1.2  Android  92a64c34b7a937df  GOTO_HOME_DIALOG_OPEN        en_US   \n",
            "1      8.1.2  Android  92a64c34b7a937df  GOTO_HOME_DIALOG_OPEN        en_US   \n",
            "2      8.1.2  Android  92a64c34b7a937df  GOTO_HOME_DIALOG_OPEN        en_US   \n",
            "3      8.1.2  Android  92a64c34b7a937df  GOTO_HOME_DIALOG_OPEN        en_US   \n",
            "4      8.1.2  Android  92a64c34b7a937df  GOTO_HOME_DIALOG_OPEN        en_US   \n",
            "5      8.1.2  Android  92a64c34b7a937df  GOTO_HOME_DIALOG_OPEN        en_US   \n",
            "6      8.1.2  Android  92a64c34b7a937df  GOTO_HOME_DIALOG_OPEN        en_US   \n",
            "7      8.1.3  Android  55484edcf472b02b  GOTO_HOME_DIALOG_OPEN        sk_SK   \n",
            "8      8.1.3  Android  92a64c34b7a937df  GOTO_HOME_DIALOG_OPEN        en_US   \n",
            "9      8.1.3  Android  92a64c34b7a937df  GOTO_HOME_DIALOG_OPEN        en_US   \n",
            "\n",
            "      timestamp                date  \n",
            "0  1.690082e+12 2023-07-23 03:16:17  \n",
            "1  1.690082e+12 2023-07-23 03:16:29  \n",
            "2  1.690082e+12 2023-07-23 03:19:36  \n",
            "3  1.690145e+12 2023-07-23 20:48:34  \n",
            "4  1.690145e+12 2023-07-23 20:50:47  \n",
            "5  1.690145e+12 2023-07-23 20:50:51  \n",
            "6  1.690155e+12 2023-07-23 23:22:20  \n",
            "7  1.690633e+12 2023-07-29 12:23:44  \n",
            "8  1.691641e+12 2023-08-10 04:24:37  \n",
            "9  1.691653e+12 2023-08-10 07:39:11  \n"
          ]
        }
      ]
    }
  ]
}