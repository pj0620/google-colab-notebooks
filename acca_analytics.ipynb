{
  "nbformat": 4,
  "nbformat_minor": 0,
  "metadata": {
    "colab": {
      "provenance": [],
      "authorship_tag": "ABX9TyPW5Gbw5hKwYD8LK87G1F06",
      "include_colab_link": true
    },
    "kernelspec": {
      "name": "python3",
      "display_name": "Python 3"
    },
    "language_info": {
      "name": "python"
    }
  },
  "cells": [
    {
      "cell_type": "markdown",
      "metadata": {
        "id": "view-in-github",
        "colab_type": "text"
      },
      "source": [
        "<a href=\"https://colab.research.google.com/github/pj0620/google-colab-notebooks/blob/main/acca_analytics.ipynb\" target=\"_parent\"><img src=\"https://colab.research.google.com/assets/colab-badge.svg\" alt=\"Open In Colab\"/></a>"
      ]
    },
    {
      "cell_type": "markdown",
      "source": [
        "# Common"
      ],
      "metadata": {
        "id": "WHiJIw-AYTd3"
      }
    },
    {
      "cell_type": "code",
      "execution_count": 16,
      "metadata": {
        "colab": {
          "base_uri": "https://localhost:8080/"
        },
        "id": "ORbya8WnXBSj",
        "outputId": "b0fe41ba-d7f7-4bcc-98a0-7ac67846abd0"
      },
      "outputs": [
        {
          "output_type": "stream",
          "name": "stdout",
          "text": [
            "Requirement already satisfied: boto3 in /usr/local/lib/python3.10/dist-packages (1.34.153)\n",
            "Requirement already satisfied: awscli in /usr/local/lib/python3.10/dist-packages (1.33.35)\n",
            "Requirement already satisfied: botocore<1.35.0,>=1.34.153 in /usr/local/lib/python3.10/dist-packages (from boto3) (1.34.153)\n",
            "Requirement already satisfied: jmespath<2.0.0,>=0.7.1 in /usr/local/lib/python3.10/dist-packages (from boto3) (1.0.1)\n",
            "Requirement already satisfied: s3transfer<0.11.0,>=0.10.0 in /usr/local/lib/python3.10/dist-packages (from boto3) (0.10.2)\n",
            "Requirement already satisfied: docutils<0.17,>=0.10 in /usr/local/lib/python3.10/dist-packages (from awscli) (0.16)\n",
            "Requirement already satisfied: PyYAML<6.1,>=3.10 in /usr/local/lib/python3.10/dist-packages (from awscli) (6.0.1)\n",
            "Requirement already satisfied: colorama<0.4.7,>=0.2.5 in /usr/local/lib/python3.10/dist-packages (from awscli) (0.4.6)\n",
            "Requirement already satisfied: rsa<4.8,>=3.1.2 in /usr/local/lib/python3.10/dist-packages (from awscli) (4.7.2)\n",
            "Requirement already satisfied: python-dateutil<3.0.0,>=2.1 in /usr/local/lib/python3.10/dist-packages (from botocore<1.35.0,>=1.34.153->boto3) (2.8.2)\n",
            "Requirement already satisfied: urllib3!=2.2.0,<3,>=1.25.4 in /usr/local/lib/python3.10/dist-packages (from botocore<1.35.0,>=1.34.153->boto3) (2.0.7)\n",
            "Requirement already satisfied: pyasn1>=0.1.3 in /usr/local/lib/python3.10/dist-packages (from rsa<4.8,>=3.1.2->awscli) (0.6.0)\n",
            "Requirement already satisfied: six>=1.5 in /usr/local/lib/python3.10/dist-packages (from python-dateutil<3.0.0,>=2.1->botocore<1.35.0,>=1.34.153->boto3) (1.16.0)\n",
            "Requirement already satisfied: pandas in /usr/local/lib/python3.10/dist-packages (2.1.4)\n",
            "Requirement already satisfied: numpy<2,>=1.22.4 in /usr/local/lib/python3.10/dist-packages (from pandas) (1.26.4)\n",
            "Requirement already satisfied: python-dateutil>=2.8.2 in /usr/local/lib/python3.10/dist-packages (from pandas) (2.8.2)\n",
            "Requirement already satisfied: pytz>=2020.1 in /usr/local/lib/python3.10/dist-packages (from pandas) (2024.1)\n",
            "Requirement already satisfied: tzdata>=2022.1 in /usr/local/lib/python3.10/dist-packages (from pandas) (2024.1)\n",
            "Requirement already satisfied: six>=1.5 in /usr/local/lib/python3.10/dist-packages (from python-dateutil>=2.8.2->pandas) (1.16.0)\n"
          ]
        }
      ],
      "source": [
        "!pip install boto3 awscli\n",
        "!pip install pandas\n",
        "\n",
        "import os\n",
        "import boto3\n",
        "import pandas as pd"
      ]
    },
    {
      "cell_type": "code",
      "source": [
        "from google.colab import userdata\n",
        "\n",
        "os.environ['AWS_ACCESS_KEY_ID'] = userdata.get('AWS_ACCESS_KEY_ID')\n",
        "os.environ['AWS_SECRET_ACCESS_KEY'] = userdata.get('AWS_SECRET_ACCESS_KEY')\n",
        "os.environ['AWS_DEFAULT_REGION'] = userdata.get('AWS_DEFAULT_REGION')"
      ],
      "metadata": {
        "id": "GM866jUXYqrn"
      },
      "execution_count": 13,
      "outputs": []
    },
    {
      "cell_type": "code",
      "source": [
        "from boto3.dynamodb.conditions import Attr\n",
        "\n",
        "# Initialize a session using Amazon DynamoDB\n",
        "dynamodb = boto3.resource('dynamodb')\n",
        "\n",
        "# Select your DynamoDB table\n",
        "table = dynamodb.Table('events-table-prod')\n",
        "\n",
        "# Define a filter expression\n",
        "filter_expression = Attr('userId').eq('1748dc6266b0ba30')\n",
        "\n",
        "# Initialize an empty list to hold all the items\n",
        "all_items = []\n",
        "\n",
        "# Perform the scan operation with pagination\n",
        "response = table.scan(\n",
        "    FilterExpression=filter_expression\n",
        ")\n",
        "\n",
        "# Add the initial items to the list\n",
        "all_items.extend(response['Items'])\n",
        "\n",
        "# Continue scanning if there are more pages of data\n",
        "while 'LastEvaluatedKey' in response:\n",
        "    response = table.scan(\n",
        "        FilterExpression=filter_expression,\n",
        "        ExclusiveStartKey=response['LastEvaluatedKey']\n",
        "    )\n",
        "    all_items.extend(response['Items'])\n",
        "\n",
        "# Convert items to a pandas DataFrame\n",
        "df = pd.DataFrame(all_items)\n",
        "\n",
        "# Ensure the timestamp is numeric\n",
        "df['timestamp'] = pd.to_numeric(df['timestamp'])\n",
        "\n",
        "# Convert timestamp from milliseconds to seconds and then to datetime\n",
        "df['date'] = pd.to_datetime(df['timestamp'] // 1000, unit='s')\n",
        "\n",
        "# Sort the DataFrame by the date column\n",
        "df = df.sort_values(by='date')\n",
        "\n",
        "# Print the DataFrame\n",
        "print(df[['date', 'eventCode']])"
      ],
      "metadata": {
        "colab": {
          "base_uri": "https://localhost:8080/"
        },
        "id": "jawR9Em3Ybm8",
        "outputId": "0c50e807-dfb8-428f-c05b-5aa002cdc9fd"
      },
      "execution_count": 30,
      "outputs": [
        {
          "output_type": "stream",
          "name": "stdout",
          "text": [
            "                  date                 eventCode\n",
            "3  2023-05-31 06:43:56                 GOTO_HOME\n",
            "4  2023-05-31 06:43:57                 GOTO_HOME\n",
            "5  2023-05-31 06:43:57                 GOTO_HOME\n",
            "6  2023-05-31 06:43:57                 GOTO_HOME\n",
            "7  2023-05-31 06:43:57                 GOTO_HOME\n",
            "8  2023-05-31 06:43:57                 GOTO_HOME\n",
            "10 2023-05-31 06:43:59              ADD_INDUCTOR\n",
            "0  2023-05-31 06:44:02        CONNECTION_CREATED\n",
            "1  2023-05-31 06:44:03        CONNECTION_CREATED\n",
            "2  2023-05-31 06:44:05        CONNECTION_CREATED\n",
            "9  2023-05-31 06:44:06     REJECTING_CIRCUIT_RUN\n",
            "11 2023-05-31 06:44:06  PROMPTING_USER_TO_UNLOCK\n",
            "13 2023-05-31 06:44:06               RUN_CIRCUIT\n",
            "14 2023-05-31 06:44:06               RUN_CIRCUIT\n",
            "15 2023-05-31 06:44:10       START_PURCHASE_FLOW\n",
            "12 2023-05-31 06:44:11           PURCHASE_FAILED\n"
          ]
        }
      ]
    },
    {
      "cell_type": "code",
      "source": [
        "from boto3.dynamodb.conditions import Attr\n",
        "\n",
        "# Initialize a session using Amazon DynamoDB\n",
        "dynamodb = boto3.resource('dynamodb')\n",
        "\n",
        "# Select your DynamoDB table\n",
        "table = dynamodb.Table('errors-table-prod')\n",
        "\n",
        "# Define a filter expression\n",
        "filter_expression = Attr('userId').eq('1748dc6266b0ba30')\n",
        "\n",
        "# Initialize an empty list to hold all the items\n",
        "all_items = []\n",
        "\n",
        "# Perform the scan operation with pagination\n",
        "response = table.scan(\n",
        "    FilterExpression=filter_expression\n",
        ")\n",
        "\n",
        "# Add the initial items to the list\n",
        "all_items.extend(response['Items'])\n",
        "\n",
        "# Continue scanning if there are more pages of data\n",
        "while 'LastEvaluatedKey' in response:\n",
        "    response = table.scan(\n",
        "        FilterExpression=filter_expression,\n",
        "        ExclusiveStartKey=response['LastEvaluatedKey']\n",
        "    )\n",
        "    all_items.extend(response['Items'])\n",
        "\n",
        "# Convert items to a pandas DataFrame\n",
        "df = pd.DataFrame(all_items)\n",
        "\n",
        "# Ensure the timestamp is numeric\n",
        "df['timestamp'] = pd.to_numeric(df['timestamp'])\n",
        "\n",
        "# Convert timestamp from milliseconds to seconds and then to datetime\n",
        "df['date'] = pd.to_datetime(df['timestamp'] // 1000, unit='s')\n",
        "\n",
        "# Sort the DataFrame by the date column\n",
        "df = df.sort_values(by='date')\n",
        "\n",
        "# Print the DataFrame\n",
        "print(df)"
      ],
      "metadata": {
        "colab": {
          "base_uri": "https://localhost:8080/"
        },
        "id": "VFy_x-CefK0G",
        "outputId": "d47cbe09-b530-4dd5-951f-f759ab6ee8d9"
      },
      "execution_count": 32,
      "outputs": [
        {
          "output_type": "stream",
          "name": "stdout",
          "text": [
            "    legacyAndroid            userId       errorType     timestamp platform  \\\n",
            "14           True  1748dc6266b0ba30  CONNECT_GROUND  1.684732e+12      NaN   \n",
            "17           True  1748dc6266b0ba30  CONNECT_GROUND  1.684732e+12      NaN   \n",
            "16           True  1748dc6266b0ba30  CONNECT_GROUND  1.684732e+12      NaN   \n",
            "15           True  1748dc6266b0ba30  CONNECT_GROUND  1.684732e+12      NaN   \n",
            "18           True  1748dc6266b0ba30  CONNECT_GROUND  1.684826e+12      NaN   \n",
            "..            ...               ...             ...           ...      ...   \n",
            "145           NaN  1748dc6266b0ba30  CONNECT_GROUND  1.685515e+12  Android   \n",
            "144           NaN  1748dc6266b0ba30  CONNECT_GROUND  1.685515e+12  Android   \n",
            "141           NaN  1748dc6266b0ba30  CONNECT_GROUND  1.685515e+12  Android   \n",
            "143           NaN  1748dc6266b0ba30  CONNECT_GROUND  1.685515e+12  Android   \n",
            "146           NaN  1748dc6266b0ba30  PURCHASE_ERROR  1.685515e+12  Android   \n",
            "\n",
            "    errorMessage                date  \n",
            "14           NaN 2023-05-22 05:09:10  \n",
            "17           NaN 2023-05-22 05:09:11  \n",
            "16           NaN 2023-05-22 05:09:11  \n",
            "15           NaN 2023-05-22 05:09:11  \n",
            "18           NaN 2023-05-23 07:09:52  \n",
            "..           ...                 ...  \n",
            "145          NaN 2023-05-31 06:43:55  \n",
            "144          NaN 2023-05-31 06:43:55  \n",
            "141          NaN 2023-05-31 06:43:55  \n",
            "143          NaN 2023-05-31 06:43:55  \n",
            "146          NaN 2023-05-31 06:44:11  \n",
            "\n",
            "[175 rows x 7 columns]\n"
          ]
        }
      ]
    }
  ]
}