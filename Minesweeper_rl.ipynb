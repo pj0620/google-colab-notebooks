{
  "nbformat": 4,
  "nbformat_minor": 0,
  "metadata": {
    "colab": {
      "provenance": [],
      "authorship_tag": "ABX9TyP8Z07LID6GQ23xdqagKPuv",
      "include_colab_link": true
    },
    "kernelspec": {
      "name": "python3",
      "display_name": "Python 3"
    },
    "language_info": {
      "name": "python"
    }
  },
  "cells": [
    {
      "cell_type": "markdown",
      "metadata": {
        "id": "view-in-github",
        "colab_type": "text"
      },
      "source": [
        "<a href=\"https://colab.research.google.com/github/pj0620/google-colab-notebooks/blob/main/Minesweeper_rl.ipynb\" target=\"_parent\"><img src=\"https://colab.research.google.com/assets/colab-badge.svg\" alt=\"Open In Colab\"/></a>"
      ]
    },
    {
      "cell_type": "code",
      "source": [
        "import numpy as np\n",
        "import random\n",
        "from scipy.signal import convolve2d"
      ],
      "metadata": {
        "id": "LZv1Xe1yddn4"
      },
      "execution_count": 6,
      "outputs": []
    },
    {
      "cell_type": "code",
      "execution_count": 5,
      "metadata": {
        "colab": {
          "base_uri": "https://localhost:8080/"
        },
        "id": "GdUim1MGdEcV",
        "outputId": "7d527b11-ffc7-46cd-e462-8615ff1eaa49"
      },
      "outputs": [
        {
          "output_type": "execute_result",
          "data": {
            "text/plain": [
              "array([[0., 0., 0., 0., 0., 0., 0., 0., 0., 0.],\n",
              "       [0., 0., 0., 0., 0., 0., 0., 0., 1., 0.],\n",
              "       [1., 0., 0., 0., 0., 0., 0., 0., 0., 0.],\n",
              "       [0., 0., 0., 0., 0., 0., 0., 0., 0., 0.],\n",
              "       [0., 0., 0., 1., 0., 1., 0., 0., 0., 0.],\n",
              "       [0., 0., 0., 0., 0., 0., 0., 0., 0., 0.],\n",
              "       [0., 0., 0., 0., 0., 0., 0., 1., 0., 0.],\n",
              "       [0., 0., 0., 0., 1., 0., 0., 1., 1., 0.],\n",
              "       [1., 0., 0., 0., 0., 0., 0., 0., 0., 1.],\n",
              "       [0., 0., 0., 0., 0., 0., 0., 0., 0., 0.]])"
            ]
          },
          "metadata": {},
          "execution_count": 5
        }
      ],
      "source": [
        "TOTAL_BOMBS = 10\n",
        "BOARD_SIZE = 10\n",
        "\n",
        "def get_bombs():\n",
        "  bombs = np.zeros(shape=(BOARD_SIZE, BOARD_SIZE))\n",
        "  placed_bombs = 0\n",
        "  while placed_bombs < TOTAL_BOMBS:\n",
        "    i = random.randint(0, BOARD_SIZE-1)\n",
        "    j = random.randint(0, BOARD_SIZE-1)\n",
        "\n",
        "    if bombs[i][j] == 0:\n",
        "      bombs[i][j] = 1\n",
        "      placed_bombs += 1\n",
        "  return bombs\n",
        "\n",
        "def get_values(bombs):\n",
        "  return"
      ]
    }
  ]
}