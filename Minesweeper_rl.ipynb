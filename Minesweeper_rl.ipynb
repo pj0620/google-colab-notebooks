{
  "nbformat": 4,
  "nbformat_minor": 0,
  "metadata": {
    "colab": {
      "provenance": [],
      "include_colab_link": true
    },
    "kernelspec": {
      "name": "python3",
      "display_name": "Python 3"
    },
    "language_info": {
      "name": "python"
    }
  },
  "cells": [
    {
      "cell_type": "markdown",
      "metadata": {
        "id": "view-in-github",
        "colab_type": "text"
      },
      "source": [
        "<a href=\"https://colab.research.google.com/github/pj0620/google-colab-notebooks/blob/main/Minesweeper_rl.ipynb\" target=\"_parent\"><img src=\"https://colab.research.google.com/assets/colab-badge.svg\" alt=\"Open In Colab\"/></a>"
      ]
    },
    {
      "cell_type": "code",
      "source": [
        "import numpy as np\n",
        "import random\n",
        "from scipy.signal import convolve2d\n",
        "%pip install stable-baselines3[extra]\n",
        "\n",
        "import numpy as np\n",
        "import gymnasium as gym\n",
        "from gymnasium import spaces"
      ],
      "metadata": {
        "colab": {
          "base_uri": "https://localhost:8080/"
        },
        "collapsed": true,
        "id": "LZv1Xe1yddn4",
        "outputId": "802cdde7-31dd-4736-9ab9-371ea6a93fbb"
      },
      "execution_count": null,
      "outputs": [
        {
          "output_type": "stream",
          "name": "stdout",
          "text": [
            "Requirement already satisfied: stable-baselines3[extra] in /usr/local/lib/python3.10/dist-packages (2.3.2)\n",
            "Requirement already satisfied: gymnasium<0.30,>=0.28.1 in /usr/local/lib/python3.10/dist-packages (from stable-baselines3[extra]) (0.29.1)\n",
            "Requirement already satisfied: numpy>=1.20 in /usr/local/lib/python3.10/dist-packages (from stable-baselines3[extra]) (1.26.4)\n",
            "Requirement already satisfied: torch>=1.13 in /usr/local/lib/python3.10/dist-packages (from stable-baselines3[extra]) (2.4.1+cu121)\n",
            "Requirement already satisfied: cloudpickle in /usr/local/lib/python3.10/dist-packages (from stable-baselines3[extra]) (3.1.0)\n",
            "Requirement already satisfied: pandas in /usr/local/lib/python3.10/dist-packages (from stable-baselines3[extra]) (2.2.2)\n",
            "Requirement already satisfied: matplotlib in /usr/local/lib/python3.10/dist-packages (from stable-baselines3[extra]) (3.7.1)\n",
            "Requirement already satisfied: opencv-python in /usr/local/lib/python3.10/dist-packages (from stable-baselines3[extra]) (4.10.0.84)\n",
            "Requirement already satisfied: pygame in /usr/local/lib/python3.10/dist-packages (from stable-baselines3[extra]) (2.6.1)\n",
            "Requirement already satisfied: tensorboard>=2.9.1 in /usr/local/lib/python3.10/dist-packages (from stable-baselines3[extra]) (2.17.0)\n",
            "Requirement already satisfied: psutil in /usr/local/lib/python3.10/dist-packages (from stable-baselines3[extra]) (5.9.5)\n",
            "Requirement already satisfied: tqdm in /usr/local/lib/python3.10/dist-packages (from stable-baselines3[extra]) (4.66.5)\n",
            "Requirement already satisfied: rich in /usr/local/lib/python3.10/dist-packages (from stable-baselines3[extra]) (13.9.2)\n",
            "Requirement already satisfied: shimmy~=1.3.0 in /usr/local/lib/python3.10/dist-packages (from shimmy[atari]~=1.3.0; extra == \"extra\"->stable-baselines3[extra]) (1.3.0)\n",
            "Requirement already satisfied: pillow in /usr/local/lib/python3.10/dist-packages (from stable-baselines3[extra]) (10.4.0)\n",
            "Requirement already satisfied: autorom~=0.6.1 in /usr/local/lib/python3.10/dist-packages (from autorom[accept-rom-license]~=0.6.1; extra == \"extra\"->stable-baselines3[extra]) (0.6.1)\n",
            "Requirement already satisfied: click in /usr/local/lib/python3.10/dist-packages (from autorom~=0.6.1->autorom[accept-rom-license]~=0.6.1; extra == \"extra\"->stable-baselines3[extra]) (8.1.7)\n",
            "Requirement already satisfied: requests in /usr/local/lib/python3.10/dist-packages (from autorom~=0.6.1->autorom[accept-rom-license]~=0.6.1; extra == \"extra\"->stable-baselines3[extra]) (2.32.3)\n",
            "Requirement already satisfied: AutoROM.accept-rom-license in /usr/local/lib/python3.10/dist-packages (from autorom[accept-rom-license]~=0.6.1; extra == \"extra\"->stable-baselines3[extra]) (0.6.1)\n",
            "Requirement already satisfied: typing-extensions>=4.3.0 in /usr/local/lib/python3.10/dist-packages (from gymnasium<0.30,>=0.28.1->stable-baselines3[extra]) (4.12.2)\n",
            "Requirement already satisfied: farama-notifications>=0.0.1 in /usr/local/lib/python3.10/dist-packages (from gymnasium<0.30,>=0.28.1->stable-baselines3[extra]) (0.0.4)\n",
            "Requirement already satisfied: ale-py~=0.8.1 in /usr/local/lib/python3.10/dist-packages (from shimmy[atari]~=1.3.0; extra == \"extra\"->stable-baselines3[extra]) (0.8.1)\n",
            "Requirement already satisfied: absl-py>=0.4 in /usr/local/lib/python3.10/dist-packages (from tensorboard>=2.9.1->stable-baselines3[extra]) (1.4.0)\n",
            "Requirement already satisfied: grpcio>=1.48.2 in /usr/local/lib/python3.10/dist-packages (from tensorboard>=2.9.1->stable-baselines3[extra]) (1.64.1)\n",
            "Requirement already satisfied: markdown>=2.6.8 in /usr/local/lib/python3.10/dist-packages (from tensorboard>=2.9.1->stable-baselines3[extra]) (3.7)\n",
            "Requirement already satisfied: protobuf!=4.24.0,<5.0.0,>=3.19.6 in /usr/local/lib/python3.10/dist-packages (from tensorboard>=2.9.1->stable-baselines3[extra]) (3.20.3)\n",
            "Requirement already satisfied: setuptools>=41.0.0 in /usr/local/lib/python3.10/dist-packages (from tensorboard>=2.9.1->stable-baselines3[extra]) (75.1.0)\n",
            "Requirement already satisfied: six>1.9 in /usr/local/lib/python3.10/dist-packages (from tensorboard>=2.9.1->stable-baselines3[extra]) (1.16.0)\n",
            "Requirement already satisfied: tensorboard-data-server<0.8.0,>=0.7.0 in /usr/local/lib/python3.10/dist-packages (from tensorboard>=2.9.1->stable-baselines3[extra]) (0.7.2)\n",
            "Requirement already satisfied: werkzeug>=1.0.1 in /usr/local/lib/python3.10/dist-packages (from tensorboard>=2.9.1->stable-baselines3[extra]) (3.0.4)\n",
            "Requirement already satisfied: filelock in /usr/local/lib/python3.10/dist-packages (from torch>=1.13->stable-baselines3[extra]) (3.16.1)\n",
            "Requirement already satisfied: sympy in /usr/local/lib/python3.10/dist-packages (from torch>=1.13->stable-baselines3[extra]) (1.13.3)\n",
            "Requirement already satisfied: networkx in /usr/local/lib/python3.10/dist-packages (from torch>=1.13->stable-baselines3[extra]) (3.4.1)\n",
            "Requirement already satisfied: jinja2 in /usr/local/lib/python3.10/dist-packages (from torch>=1.13->stable-baselines3[extra]) (3.1.4)\n",
            "Requirement already satisfied: fsspec in /usr/local/lib/python3.10/dist-packages (from torch>=1.13->stable-baselines3[extra]) (2024.6.1)\n",
            "Requirement already satisfied: contourpy>=1.0.1 in /usr/local/lib/python3.10/dist-packages (from matplotlib->stable-baselines3[extra]) (1.3.0)\n",
            "Requirement already satisfied: cycler>=0.10 in /usr/local/lib/python3.10/dist-packages (from matplotlib->stable-baselines3[extra]) (0.12.1)\n",
            "Requirement already satisfied: fonttools>=4.22.0 in /usr/local/lib/python3.10/dist-packages (from matplotlib->stable-baselines3[extra]) (4.54.1)\n",
            "Requirement already satisfied: kiwisolver>=1.0.1 in /usr/local/lib/python3.10/dist-packages (from matplotlib->stable-baselines3[extra]) (1.4.7)\n",
            "Requirement already satisfied: packaging>=20.0 in /usr/local/lib/python3.10/dist-packages (from matplotlib->stable-baselines3[extra]) (24.1)\n",
            "Requirement already satisfied: pyparsing>=2.3.1 in /usr/local/lib/python3.10/dist-packages (from matplotlib->stable-baselines3[extra]) (3.2.0)\n",
            "Requirement already satisfied: python-dateutil>=2.7 in /usr/local/lib/python3.10/dist-packages (from matplotlib->stable-baselines3[extra]) (2.8.2)\n",
            "Requirement already satisfied: pytz>=2020.1 in /usr/local/lib/python3.10/dist-packages (from pandas->stable-baselines3[extra]) (2024.2)\n",
            "Requirement already satisfied: tzdata>=2022.7 in /usr/local/lib/python3.10/dist-packages (from pandas->stable-baselines3[extra]) (2024.2)\n",
            "Requirement already satisfied: markdown-it-py>=2.2.0 in /usr/local/lib/python3.10/dist-packages (from rich->stable-baselines3[extra]) (3.0.0)\n",
            "Requirement already satisfied: pygments<3.0.0,>=2.13.0 in /usr/local/lib/python3.10/dist-packages (from rich->stable-baselines3[extra]) (2.18.0)\n",
            "Requirement already satisfied: importlib-resources in /usr/local/lib/python3.10/dist-packages (from ale-py~=0.8.1->shimmy[atari]~=1.3.0; extra == \"extra\"->stable-baselines3[extra]) (6.4.5)\n",
            "Requirement already satisfied: mdurl~=0.1 in /usr/local/lib/python3.10/dist-packages (from markdown-it-py>=2.2.0->rich->stable-baselines3[extra]) (0.1.2)\n",
            "Requirement already satisfied: MarkupSafe>=2.1.1 in /usr/local/lib/python3.10/dist-packages (from werkzeug>=1.0.1->tensorboard>=2.9.1->stable-baselines3[extra]) (3.0.2)\n",
            "Requirement already satisfied: charset-normalizer<4,>=2 in /usr/local/lib/python3.10/dist-packages (from requests->autorom~=0.6.1->autorom[accept-rom-license]~=0.6.1; extra == \"extra\"->stable-baselines3[extra]) (3.4.0)\n",
            "Requirement already satisfied: idna<4,>=2.5 in /usr/local/lib/python3.10/dist-packages (from requests->autorom~=0.6.1->autorom[accept-rom-license]~=0.6.1; extra == \"extra\"->stable-baselines3[extra]) (3.10)\n",
            "Requirement already satisfied: urllib3<3,>=1.21.1 in /usr/local/lib/python3.10/dist-packages (from requests->autorom~=0.6.1->autorom[accept-rom-license]~=0.6.1; extra == \"extra\"->stable-baselines3[extra]) (2.2.3)\n",
            "Requirement already satisfied: certifi>=2017.4.17 in /usr/local/lib/python3.10/dist-packages (from requests->autorom~=0.6.1->autorom[accept-rom-license]~=0.6.1; extra == \"extra\"->stable-baselines3[extra]) (2024.8.30)\n",
            "Requirement already satisfied: mpmath<1.4,>=1.1.0 in /usr/local/lib/python3.10/dist-packages (from sympy->torch>=1.13->stable-baselines3[extra]) (1.3.0)\n"
          ]
        }
      ]
    },
    {
      "cell_type": "code",
      "execution_count": null,
      "metadata": {
        "colab": {
          "base_uri": "https://localhost:8080/"
        },
        "id": "GdUim1MGdEcV",
        "outputId": "c7c89dcd-7a7f-4166-e387-11d3e8c77f60"
      },
      "outputs": [
        {
          "output_type": "stream",
          "name": "stdout",
          "text": [
            "# bombs\n",
            "[[0. 0. 0. 0. 0. 0. 0. 0. 0. 0.]\n",
            " [0. 0. 0. 0. 0. 1. 0. 0. 0. 0.]\n",
            " [0. 0. 0. 0. 1. 0. 0. 0. 0. 0.]\n",
            " [0. 0. 0. 0. 0. 0. 0. 0. 0. 0.]\n",
            " [0. 0. 0. 0. 0. 0. 0. 0. 1. 0.]\n",
            " [0. 0. 1. 0. 0. 1. 0. 1. 0. 0.]\n",
            " [0. 0. 0. 0. 0. 0. 0. 0. 1. 0.]\n",
            " [0. 0. 0. 0. 0. 0. 0. 0. 0. 0.]\n",
            " [0. 0. 1. 0. 0. 0. 1. 0. 0. 0.]\n",
            " [1. 0. 0. 0. 0. 0. 0. 0. 0. 0.]]\n",
            "# vals\n",
            "[[0. 0. 0. 0. 1. 1. 1. 0. 0. 0.]\n",
            " [0. 0. 0. 1. 2. 2. 1. 0. 0. 0.]\n",
            " [0. 0. 0. 1. 2. 2. 1. 0. 0. 0.]\n",
            " [0. 0. 0. 1. 1. 1. 0. 1. 1. 1.]\n",
            " [0. 1. 1. 1. 1. 1. 2. 2. 2. 1.]\n",
            " [0. 1. 1. 1. 1. 1. 2. 3. 3. 2.]\n",
            " [0. 1. 1. 1. 1. 1. 2. 2. 2. 1.]\n",
            " [0. 1. 1. 1. 0. 1. 1. 2. 1. 1.]\n",
            " [1. 2. 1. 1. 0. 1. 1. 1. 0. 0.]\n",
            " [1. 2. 1. 1. 0. 1. 1. 1. 0. 0.]]\n"
          ]
        }
      ],
      "source": [
        "TOTAL_BOMBS = 10\n",
        "BOARD_SIZE = 10\n",
        "\n",
        "KERNAL = np.ones((3, 3))\n",
        "\n",
        "def get_bombs(board_size, total_bombs):\n",
        "  bombs = np.zeros(shape=(board_size, board_size))\n",
        "  placed_bombs = 0\n",
        "  while placed_bombs < total_bombs:\n",
        "    i = random.randint(0, board_size-1)\n",
        "    j = random.randint(0, board_size-1)\n",
        "\n",
        "    if bombs[i][j] == 0:\n",
        "      bombs[i][j] = 1\n",
        "      placed_bombs += 1\n",
        "  return bombs\n",
        "\n",
        "def get_values(bombs):\n",
        "  KERNAL = np.ones((3, 3))\n",
        "  return convolve2d(bombs, KERNAL, mode='same')\n",
        "\n",
        "def get_representation(vals, visible):\n",
        "  return vals * visible, visible\n",
        "\n",
        "bombs = get_bombs()\n",
        "visible = np.zeros(shape=(BOARD_SIZE, BOARD_SIZE))\n",
        "vals = get_values(bombs)\n",
        "\n",
        "print(\"# bombs\")\n",
        "print(bombs)\n",
        "print(\"# vals\")\n",
        "print(vals)"
      ]
    },
    {
      "cell_type": "markdown",
      "source": [
        "## Custom gymnasium env"
      ],
      "metadata": {
        "id": "qnhdrAKdlZdo"
      }
    },
    {
      "cell_type": "code",
      "source": [
        "class MinesweeperEnvironment(gym.Env):\n",
        "  # Because of google colab, we cannot implement the GUI ('human' render mode)\n",
        "  metadata = {\"render_modes\": [\"console\"]}\n",
        "\n",
        "  def __init__(self, board_size=10, total_bombs=10, render_mode=\"console\"):\n",
        "    super(GoLeftEnv, self).__init__()\n",
        "    self.render_mode = render_mode\n",
        "\n",
        "    # Size of the 1D-grid\n",
        "    self.board_size = board_size\n",
        "    self.total_bombs = total_bombs\n",
        "\n",
        "    self.visible = np.zeros((self.board_size, self.board_size))\n",
        "    self.set_bombs()\n",
        "    self.set_vals()\n",
        "\n",
        "    # Define observation space\n",
        "    self.observation_space = spaces.Tuple((\n",
        "      spaces.Box(low=0, high=8, shape=(self.board_size, self.board_size), dtype=np.int),\n",
        "      spaces.Box(low=0, high=1, shape=(self.board_size, self.board_size), dtype=np.int)\n",
        "    ))\n",
        "\n",
        "    # Define action space\n",
        "    self.action_space = spaces.Tuple((\n",
        "      spaces.Discrete(self.board_size),  # x coordinate\n",
        "      spaces.Discrete(self.board_size)   # y coordinate\n",
        "    ))\n",
        "\n",
        "  def set_bombs(self):\n",
        "    self.bombs = np.zeros(shape=(self.board_size, self.board_size))\n",
        "    placed_bombs = 0\n",
        "    while placed_bombs < self.total_bombs:\n",
        "      i = random.randint(0, self.board_size-1)\n",
        "      j = random.randint(0, self.board_size-1)\n",
        "\n",
        "      if self.bombs[i][j] == 0:\n",
        "        self.bombs[i][j] = 1\n",
        "        placed_bombs += 1\n",
        "\n",
        "  def set_values(self):\n",
        "    KERNAL = np.ones((3, 3))\n",
        "    self.vals = convolve2d(self.bombs, KERNAL, mode='same')\n",
        "\n",
        "  def reset(self):\n",
        "    # Reset the environment to an initial state\n",
        "    self.state = (np.zeros((self.board_size, self.board_size), dtype=np.int),\n",
        "                  np.zeros((self.board_size, self.board_size), dtype=np.int))\n",
        "    self.visible = np.zeros((self.board_size, self.board_size))\n",
        "    self.set_bombs()\n",
        "    self.set_vals()\n",
        "\n",
        "    self.state = (self.visible * self.vals, self.vals)\n",
        "    return self.state\n",
        "\n",
        "  def step(self, action):\n",
        "    # Implement the logic for taking a step in the environment\n",
        "    x, y = action\n",
        "    # Example logic (you'll implement your own)\n",
        "    reward = 0  # Calculate reward based on the action taken\n",
        "    done = False  # Determine if the episode is done\n",
        "    return self.state, reward, done, {}\n",
        "\n",
        "  def render(self, mode='human'):\n",
        "    # Optionally implement visualization\n",
        "    pass\n"
      ],
      "metadata": {
        "id": "k1b3Xo2biryW"
      },
      "execution_count": null,
      "outputs": []
    },
    {
      "cell_type": "code",
      "source": [
        "env = MinesweeperEnvironment(board_size=10, total_bombs=10)\n",
        "\n",
        "check_env(env)"
      ],
      "metadata": {
        "id": "DMBhu2n2sSky"
      },
      "execution_count": null,
      "outputs": []
    },
    {
      "cell_type": "code",
      "source": [
        "\n"
      ],
      "metadata": {
        "id": "WH5k5ovXsZuf"
      },
      "execution_count": null,
      "outputs": []
    }
  ]
}